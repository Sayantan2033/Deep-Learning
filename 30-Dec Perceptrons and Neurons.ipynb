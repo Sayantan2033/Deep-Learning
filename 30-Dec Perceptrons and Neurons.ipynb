{
 "cells": [
  {
   "cell_type": "code",
   "execution_count": 2,
   "metadata": {},
   "outputs": [],
   "source": [
    "import tensorflow as tf"
   ]
  },
  {
   "cell_type": "code",
   "execution_count": 3,
   "metadata": {},
   "outputs": [],
   "source": [
    "import numpy as np"
   ]
  },
  {
   "cell_type": "code",
   "execution_count": 4,
   "metadata": {},
   "outputs": [],
   "source": [
    "#Collecting sample\n",
    "\n",
    "np.random.seed(101)\n",
    "tf.set_random_seed(101)"
   ]
  },
  {
   "cell_type": "code",
   "execution_count": 5,
   "metadata": {},
   "outputs": [
    {
     "name": "stdout",
     "output_type": "stream",
     "text": [
      "[[51.63986277 57.06675869  2.84742265 17.15216562 68.52769817]\n",
      " [83.38968626 30.69662197 89.36130797 72.15438618 18.99389542]\n",
      " [55.42275911 35.2131954  18.18924027 78.56017619 96.54832224]\n",
      " [23.23536618  8.35614337 60.35484223 72.89927573 27.62388285]\n",
      " [68.53063288 51.78674742  4.84845374 13.78692376 18.69674261]]\n"
     ]
    }
   ],
   "source": [
    "rand_a = np.random.uniform(0,100,(5,5))\n",
    "\n",
    "print(rand_a)"
   ]
  },
  {
   "cell_type": "code",
   "execution_count": 7,
   "metadata": {},
   "outputs": [
    {
     "name": "stdout",
     "output_type": "stream",
     "text": [
      "[[91.31535577]\n",
      " [80.7920151 ]\n",
      " [40.29978307]\n",
      " [35.72243428]\n",
      " [95.28767147]]\n"
     ]
    }
   ],
   "source": [
    "rand_b = np.random.uniform(0,100,(5,1))\n",
    "print(rand_b)"
   ]
  },
  {
   "cell_type": "code",
   "execution_count": 8,
   "metadata": {},
   "outputs": [],
   "source": [
    "#Creating placeholder\n",
    "\n",
    "a = tf.placeholder(tf.float32)\n",
    "b = tf.placeholder(tf.float32)"
   ]
  },
  {
   "cell_type": "code",
   "execution_count": 9,
   "metadata": {},
   "outputs": [],
   "source": [
    "#Performing two operations\n",
    "\n",
    "add = a + b\n",
    "mul = a * b"
   ]
  },
  {
   "cell_type": "code",
   "execution_count": 11,
   "metadata": {},
   "outputs": [
    {
     "name": "stdout",
     "output_type": "stream",
     "text": [
      "[[142.95522  148.38211   94.16277  108.46752  159.84305 ]\n",
      " [164.1817   111.48864  170.15332  152.94641   99.78591 ]\n",
      " [ 95.72254   75.51298   58.48902  118.859955 136.84811 ]\n",
      " [ 58.9578    44.07858   96.07728  108.62171   63.346317]\n",
      " [163.8183   147.07442  100.13612  109.0746   113.98442 ]]\n",
      "\n",
      "\n",
      "[[4715.512   5211.0713   260.0134  1566.2561  6257.631  ]\n",
      " [6737.2207  2480.042   7219.6797  5829.4985  1534.555  ]\n",
      " [2233.5251  1419.0841   733.0224  3165.9578  3890.8765 ]\n",
      " [ 830.02386  298.50177 2156.022   2604.1396   986.79236]\n",
      " [6530.1245  4934.6387   461.99786 1313.7239  1781.5691 ]]\n"
     ]
    }
   ],
   "source": [
    "#Creating session and pass data to placeholder with feed dict\n",
    "\n",
    "with tf.Session() as sess:\n",
    "    add_result = sess.run(add, feed_dict={a:rand_a, b:rand_b})\n",
    "    print(add_result)\n",
    "    print('\\n')\n",
    "    \n",
    "    mul_result = sess.run(mul, feed_dict={a:rand_a, b:rand_b})\n",
    "    print(mul_result)"
   ]
  },
  {
   "cell_type": "code",
   "execution_count": null,
   "metadata": {},
   "outputs": [],
   "source": []
  }
 ],
 "metadata": {
  "kernelspec": {
   "display_name": "Python 3",
   "language": "python",
   "name": "python3"
  },
  "language_info": {
   "codemirror_mode": {
    "name": "ipython",
    "version": 3
   },
   "file_extension": ".py",
   "mimetype": "text/x-python",
   "name": "python",
   "nbconvert_exporter": "python",
   "pygments_lexer": "ipython3",
   "version": "3.6.9"
  }
 },
 "nbformat": 4,
 "nbformat_minor": 2
}
