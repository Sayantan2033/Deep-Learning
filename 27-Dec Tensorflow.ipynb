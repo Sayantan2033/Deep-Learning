{
 "cells": [
  {
   "cell_type": "markdown",
   "metadata": {},
   "source": [
    "# Tensorflow:"
   ]
  },
  {
   "cell_type": "code",
   "execution_count": 6,
   "metadata": {},
   "outputs": [
    {
     "name": "stdout",
     "output_type": "stream",
     "text": [
      "The tensorflow version is: 1.10.0\n"
     ]
    }
   ],
   "source": [
    "import tensorflow as tf\n",
    "\n",
    "print(\"The tensorflow version is:\", tf.__version__)"
   ]
  },
  {
   "cell_type": "raw",
   "metadata": {},
   "source": [
    "Tensorflow works on four things:\n",
    "1. Constant: We can hold values with the help of constants.\n",
    "2. Variable\n",
    "3. Session\n",
    "4. Graph"
   ]
  },
  {
   "cell_type": "markdown",
   "metadata": {},
   "source": [
    "## Constants:"
   ]
  },
  {
   "cell_type": "code",
   "execution_count": 8,
   "metadata": {},
   "outputs": [
    {
     "name": "stdout",
     "output_type": "stream",
     "text": [
      "Tensor(\"Const:0\", shape=(), dtype=string)\n"
     ]
    }
   ],
   "source": [
    "hello = tf.constant(\"Hello\")\n",
    "print(hello)"
   ]
  },
  {
   "cell_type": "code",
   "execution_count": 9,
   "metadata": {},
   "outputs": [
    {
     "name": "stdout",
     "output_type": "stream",
     "text": [
      "Tensor(\"Const_1:0\", shape=(), dtype=string)\n"
     ]
    }
   ],
   "source": [
    "world = tf.constant(\"World\")\n",
    "print(world)"
   ]
  },
  {
   "cell_type": "code",
   "execution_count": 10,
   "metadata": {},
   "outputs": [
    {
     "name": "stdout",
     "output_type": "stream",
     "text": [
      "Tensor(\"Const_2:0\", shape=(), dtype=string)\n"
     ]
    }
   ],
   "source": [
    "world = tf.constant(\"World\")\n",
    "print(world)"
   ]
  },
  {
   "cell_type": "code",
   "execution_count": 11,
   "metadata": {},
   "outputs": [
    {
     "name": "stdout",
     "output_type": "stream",
     "text": [
      "Tensor(\"Const_3:0\", shape=(), dtype=string)\n"
     ]
    }
   ],
   "source": [
    "world = tf.constant(\"World\")\n",
    "print(world)"
   ]
  },
  {
   "cell_type": "code",
   "execution_count": 12,
   "metadata": {},
   "outputs": [
    {
     "data": {
      "text/plain": [
       "tensorflow.python.framework.ops.Tensor"
      ]
     },
     "execution_count": 12,
     "metadata": {},
     "output_type": "execute_result"
    }
   ],
   "source": [
    "type(hello)"
   ]
  },
  {
   "cell_type": "markdown",
   "metadata": {},
   "source": [
    "## Sessions:"
   ]
  },
  {
   "cell_type": "code",
   "execution_count": 13,
   "metadata": {},
   "outputs": [
    {
     "name": "stdout",
     "output_type": "stream",
     "text": [
      "b'HelloWorld'\n"
     ]
    }
   ],
   "source": [
    "with tf.Session() as sess:\n",
    "    result = sess.run(hello + world)\n",
    "\n",
    "print(result)"
   ]
  },
  {
   "cell_type": "code",
   "execution_count": 14,
   "metadata": {},
   "outputs": [
    {
     "name": "stdout",
     "output_type": "stream",
     "text": [
      "The sum is: 110\n"
     ]
    }
   ],
   "source": [
    "#how to add two numbers\n",
    "\n",
    "num1 = tf.constant(10)\n",
    "num2 = tf.constant(100)\n",
    "\n",
    "with tf.Session() as sess:\n",
    "    s = sess.run(num1 + num2)\n",
    "    \n",
    "print(\"The sum is:\", s)"
   ]
  },
  {
   "cell_type": "code",
   "execution_count": 31,
   "metadata": {},
   "outputs": [],
   "source": [
    "tens = tf.fill((5,5),10)\n",
    "zeros = tf.zeros((5,5))\n",
    "ones = tf.ones((5,5))\n",
    "randn = tf.random_normal((5,5), mean=0, stddev=1.0)\n",
    "randu = tf.random_uniform((5,5), minval=0, maxval=1)"
   ]
  },
  {
   "cell_type": "code",
   "execution_count": 32,
   "metadata": {},
   "outputs": [],
   "source": [
    "const = tf.constant(5)"
   ]
  },
  {
   "cell_type": "code",
   "execution_count": 33,
   "metadata": {},
   "outputs": [],
   "source": [
    "mymethod = [const, tens, zeros, ones, randn, randu]"
   ]
  },
  {
   "cell_type": "code",
   "execution_count": 35,
   "metadata": {},
   "outputs": [],
   "source": [
    "sess = tf.InteractiveSession()"
   ]
  },
  {
   "cell_type": "code",
   "execution_count": 36,
   "metadata": {},
   "outputs": [
    {
     "name": "stdout",
     "output_type": "stream",
     "text": [
      "5\n",
      "\n",
      "\n",
      "[[10 10 10 10 10]\n",
      " [10 10 10 10 10]\n",
      " [10 10 10 10 10]\n",
      " [10 10 10 10 10]\n",
      " [10 10 10 10 10]]\n",
      "\n",
      "\n",
      "[[0. 0. 0. 0. 0.]\n",
      " [0. 0. 0. 0. 0.]\n",
      " [0. 0. 0. 0. 0.]\n",
      " [0. 0. 0. 0. 0.]\n",
      " [0. 0. 0. 0. 0.]]\n",
      "\n",
      "\n",
      "[[1. 1. 1. 1. 1.]\n",
      " [1. 1. 1. 1. 1.]\n",
      " [1. 1. 1. 1. 1.]\n",
      " [1. 1. 1. 1. 1.]\n",
      " [1. 1. 1. 1. 1.]]\n",
      "\n",
      "\n",
      "[[ 0.28026545  1.3190225  -1.881624    1.4006066  -0.0076632 ]\n",
      " [ 0.78485364 -2.5427542  -0.10941369  1.3294429  -0.4528029 ]\n",
      " [-0.03640976  1.7344714   0.97714114  1.1068205   0.1333591 ]\n",
      " [-0.2927276   0.74203974  1.2883278   0.74311435 -0.8726402 ]\n",
      " [-1.5407395   1.0859035   0.4924888   1.0646701  -0.6478197 ]]\n",
      "\n",
      "\n",
      "[[0.8725685  0.8268715  0.04930127 0.6555995  0.84688854]\n",
      " [0.22049308 0.5396702  0.141312   0.8203578  0.74491715]\n",
      " [0.8352256  0.53348553 0.49205422 0.68526745 0.082057  ]\n",
      " [0.298159   0.29055965 0.9223418  0.70084536 0.89978445]\n",
      " [0.66983724 0.2597674  0.2425543  0.33793867 0.30817235]]\n",
      "\n",
      "\n"
     ]
    }
   ],
   "source": [
    "for my in mymethod:\n",
    "    print(sess.run(my))\n",
    "    print('\\n')"
   ]
  },
  {
   "cell_type": "code",
   "execution_count": 37,
   "metadata": {},
   "outputs": [
    {
     "name": "stdout",
     "output_type": "stream",
     "text": [
      "5\n",
      "\n",
      "\n",
      "[[10 10 10 10 10]\n",
      " [10 10 10 10 10]\n",
      " [10 10 10 10 10]\n",
      " [10 10 10 10 10]\n",
      " [10 10 10 10 10]]\n",
      "\n",
      "\n",
      "[[0. 0. 0. 0. 0.]\n",
      " [0. 0. 0. 0. 0.]\n",
      " [0. 0. 0. 0. 0.]\n",
      " [0. 0. 0. 0. 0.]\n",
      " [0. 0. 0. 0. 0.]]\n",
      "\n",
      "\n",
      "[[1. 1. 1. 1. 1.]\n",
      " [1. 1. 1. 1. 1.]\n",
      " [1. 1. 1. 1. 1.]\n",
      " [1. 1. 1. 1. 1.]\n",
      " [1. 1. 1. 1. 1.]]\n",
      "\n",
      "\n",
      "[[-0.254683   -0.5914323   0.23242639  1.7363476   0.3617251 ]\n",
      " [ 1.0948666  -0.14655755 -0.83523935 -1.2740047  -1.2690029 ]\n",
      " [ 1.0139107  -0.7013162   1.4701296  -0.14826822 -0.76736444]\n",
      " [-0.03463251 -0.20103487 -1.4728683   1.4477028  -1.5270038 ]\n",
      " [ 0.846078   -1.0645773   0.5053752   0.13128042  0.19709049]]\n",
      "\n",
      "\n",
      "[[0.89547384 0.04278135 0.6458281  0.6768575  0.8889556 ]\n",
      " [0.7232603  0.00105941 0.4631791  0.77465737 0.3971492 ]\n",
      " [0.472939   0.557377   0.9460995  0.94239223 0.4507606 ]\n",
      " [0.7970457  0.29005313 0.30916345 0.7362566  0.7588346 ]\n",
      " [0.7807319  0.25290596 0.25314248 0.6845176  0.16715646]]\n",
      "\n",
      "\n"
     ]
    }
   ],
   "source": [
    "#Second method for session: eval\n",
    "for i in mymethod:\n",
    "    print(i.eval())\n",
    "    print(\"\\n\")"
   ]
  },
  {
   "cell_type": "code",
   "execution_count": 42,
   "metadata": {},
   "outputs": [],
   "source": [
    "#Finding shape\n",
    "a = tf.fill((5,5),6)"
   ]
  },
  {
   "cell_type": "code",
   "execution_count": 43,
   "metadata": {},
   "outputs": [
    {
     "data": {
      "text/plain": [
       "TensorShape([Dimension(5), Dimension(5)])"
      ]
     },
     "execution_count": 43,
     "metadata": {},
     "output_type": "execute_result"
    }
   ],
   "source": [
    "a.get_shape()"
   ]
  },
  {
   "cell_type": "code",
   "execution_count": 44,
   "metadata": {},
   "outputs": [],
   "source": [
    "mult = tf.matmul(a, tens)"
   ]
  },
  {
   "cell_type": "code",
   "execution_count": 45,
   "metadata": {},
   "outputs": [
    {
     "name": "stdout",
     "output_type": "stream",
     "text": [
      "[[300 300 300 300 300]\n",
      " [300 300 300 300 300]\n",
      " [300 300 300 300 300]\n",
      " [300 300 300 300 300]\n",
      " [300 300 300 300 300]]\n"
     ]
    }
   ],
   "source": [
    "print(sess.run(mult))"
   ]
  },
  {
   "cell_type": "code",
   "execution_count": 46,
   "metadata": {},
   "outputs": [
    {
     "name": "stdout",
     "output_type": "stream",
     "text": [
      "[[300 300 300 300 300]\n",
      " [300 300 300 300 300]\n",
      " [300 300 300 300 300]\n",
      " [300 300 300 300 300]\n",
      " [300 300 300 300 300]]\n"
     ]
    }
   ],
   "source": [
    "print(mult.eval())"
   ]
  },
  {
   "cell_type": "markdown",
   "metadata": {},
   "source": [
    "## Graph:"
   ]
  },
  {
   "cell_type": "code",
   "execution_count": 47,
   "metadata": {},
   "outputs": [],
   "source": [
    "#Creating or generating graph\n",
    "\n",
    "num3 = num1 + num2"
   ]
  },
  {
   "cell_type": "code",
   "execution_count": 48,
   "metadata": {},
   "outputs": [
    {
     "name": "stdout",
     "output_type": "stream",
     "text": [
      "110\n"
     ]
    }
   ],
   "source": [
    "with tf.Session() as sess:\n",
    "    print(sess.run(num3))"
   ]
  },
  {
   "cell_type": "code",
   "execution_count": 49,
   "metadata": {},
   "outputs": [
    {
     "name": "stdout",
     "output_type": "stream",
     "text": [
      "<tensorflow.python.framework.ops.Graph object at 0x000002182075D978>\n"
     ]
    }
   ],
   "source": [
    "#Default graph\n",
    "print(tf.get_default_graph())"
   ]
  },
  {
   "cell_type": "code",
   "execution_count": 50,
   "metadata": {},
   "outputs": [],
   "source": [
    "#Creating own graphs\n",
    "g = tf.Graph()"
   ]
  },
  {
   "cell_type": "code",
   "execution_count": 51,
   "metadata": {},
   "outputs": [
    {
     "name": "stdout",
     "output_type": "stream",
     "text": [
      "<tensorflow.python.framework.ops.Graph object at 0x000002182A3AE588>\n"
     ]
    }
   ],
   "source": [
    "g1 = tf.Graph()\n",
    "print(g1)"
   ]
  },
  {
   "cell_type": "code",
   "execution_count": 52,
   "metadata": {},
   "outputs": [
    {
     "name": "stdout",
     "output_type": "stream",
     "text": [
      "<tensorflow.python.framework.ops.Graph object at 0x000002182A26B518>\n"
     ]
    }
   ],
   "source": [
    "g2 = tf.Graph()\n",
    "print(g2)"
   ]
  },
  {
   "cell_type": "code",
   "execution_count": 53,
   "metadata": {},
   "outputs": [
    {
     "name": "stdout",
     "output_type": "stream",
     "text": [
      "Inside session.\n",
      "True\n",
      "Outside session.\n",
      "False\n"
     ]
    }
   ],
   "source": [
    "#Setting a graph as default\n",
    "\n",
    "with g2.as_default():\n",
    "    print(\"Inside session.\")\n",
    "    print(g2 is tf.get_default_graph())\n",
    "    \n",
    "print(\"Outside session.\")\n",
    "print(g2 is tf.get_default_graph())"
   ]
  },
  {
   "cell_type": "markdown",
   "metadata": {},
   "source": [
    "## Variables:"
   ]
  },
  {
   "cell_type": "raw",
   "metadata": {},
   "source": [
    "Variables can be compared with weights and bias in ML.\n",
    "Placeholders are used to hold the training data in ML."
   ]
  },
  {
   "cell_type": "code",
   "execution_count": 54,
   "metadata": {},
   "outputs": [
    {
     "name": "stdout",
     "output_type": "stream",
     "text": [
      "The tensorflow version is: 1.10.0\n"
     ]
    }
   ],
   "source": [
    "import tensorflow as tf\n",
    "\n",
    "print(\"The tensorflow version is:\", tf.__version__)"
   ]
  },
  {
   "cell_type": "code",
   "execution_count": 56,
   "metadata": {},
   "outputs": [],
   "source": [
    "sess = tf.InteractiveSession()"
   ]
  },
  {
   "cell_type": "code",
   "execution_count": 57,
   "metadata": {},
   "outputs": [],
   "source": [
    "my_tensor = tf.random_uniform((5,5),0,2)"
   ]
  },
  {
   "cell_type": "code",
   "execution_count": 58,
   "metadata": {},
   "outputs": [],
   "source": [
    "var1 = tf.Variable(initial_value=my_tensor)"
   ]
  },
  {
   "cell_type": "code",
   "execution_count": 62,
   "metadata": {},
   "outputs": [],
   "source": [
    "init = tf.global_variables_initializer()"
   ]
  },
  {
   "cell_type": "code",
   "execution_count": 63,
   "metadata": {},
   "outputs": [],
   "source": [
    "sess.run(init)"
   ]
  },
  {
   "cell_type": "code",
   "execution_count": 64,
   "metadata": {},
   "outputs": [
    {
     "data": {
      "text/plain": [
       "array([[1.7190535 , 0.34114432, 0.66239214, 1.1468911 , 1.009295  ],\n",
       "       [1.2546208 , 0.45872808, 1.9645753 , 0.10663986, 0.25311232],\n",
       "       [0.5602772 , 1.6995099 , 0.76995206, 0.80440736, 1.5129762 ],\n",
       "       [1.6334476 , 0.9260309 , 0.3273542 , 0.3041811 , 0.7465265 ],\n",
       "       [0.9435401 , 0.9345944 , 0.15495157, 1.4810691 , 0.7597301 ]],\n",
       "      dtype=float32)"
      ]
     },
     "execution_count": 64,
     "metadata": {},
     "output_type": "execute_result"
    }
   ],
   "source": [
    "sess.run(var1)"
   ]
  },
  {
   "cell_type": "markdown",
   "metadata": {},
   "source": [
    "## Placeholder:"
   ]
  },
  {
   "cell_type": "code",
   "execution_count": 66,
   "metadata": {},
   "outputs": [
    {
     "data": {
      "text/plain": [
       "<tf.Tensor 'Placeholder:0' shape=(4, 4) dtype=float32>"
      ]
     },
     "execution_count": 66,
     "metadata": {},
     "output_type": "execute_result"
    }
   ],
   "source": [
    "ph1 = tf.placeholder(tf.float32, shape=(4,4))\n",
    "ph1"
   ]
  },
  {
   "cell_type": "code",
   "execution_count": null,
   "metadata": {},
   "outputs": [],
   "source": []
  }
 ],
 "metadata": {
  "kernelspec": {
   "display_name": "Python 3",
   "language": "python",
   "name": "python3"
  },
  "language_info": {
   "codemirror_mode": {
    "name": "ipython",
    "version": 3
   },
   "file_extension": ".py",
   "mimetype": "text/x-python",
   "name": "python",
   "nbconvert_exporter": "python",
   "pygments_lexer": "ipython3",
   "version": "3.6.9"
  }
 },
 "nbformat": 4,
 "nbformat_minor": 2
}
